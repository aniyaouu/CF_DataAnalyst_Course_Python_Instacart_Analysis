{
 "cells": [
  {
   "cell_type": "markdown",
   "id": "0a1e171a-95f9-412d-b947-c789f08a09a9",
   "metadata": {},
   "source": [
    "# 01. Importing Libraries"
   ]
  },
  {
   "cell_type": "code",
   "execution_count": 26,
   "id": "be4d9a2a-ab44-4c37-8ba6-4b2a4b5d1f63",
   "metadata": {},
   "outputs": [],
   "source": [
    "# Import Libraries\n",
    "import pandas as pd\n",
    "import numpy as np\n",
    "import os"
   ]
  },
  {
   "cell_type": "markdown",
   "id": "c87e3b24-3aa6-41f3-bc7f-74bdb3d9aa86",
   "metadata": {},
   "source": [
    "# 02. Importing Data"
   ]
  },
  {
   "cell_type": "code",
   "execution_count": 28,
   "id": "054e1574-08b5-44dd-a2fe-5375519a46ed",
   "metadata": {},
   "outputs": [],
   "source": [
    "df = pd.read_csv(r'/Users/xxx/Documents/Instacart Basket Analysis - 2025-01-05/02 - Data/Original Data/orders.csv', index_col = False)"
   ]
  },
  {
   "cell_type": "code",
   "execution_count": 62,
   "id": "5d3803e6-8992-459f-9b93-515967e8c2f5",
   "metadata": {},
   "outputs": [
    {
     "data": {
      "text/plain": [
       "(3421083, 6)"
      ]
     },
     "execution_count": 62,
     "metadata": {},
     "output_type": "execute_result"
    }
   ],
   "source": [
    "df.shape"
   ]
  },
  {
   "cell_type": "code",
   "execution_count": 29,
   "id": "229aa8b7-cb86-4fa7-b327-95af37d1ad41",
   "metadata": {},
   "outputs": [
    {
     "data": {
      "text/html": [
       "<div>\n",
       "<style scoped>\n",
       "    .dataframe tbody tr th:only-of-type {\n",
       "        vertical-align: middle;\n",
       "    }\n",
       "\n",
       "    .dataframe tbody tr th {\n",
       "        vertical-align: top;\n",
       "    }\n",
       "\n",
       "    .dataframe thead th {\n",
       "        text-align: right;\n",
       "    }\n",
       "</style>\n",
       "<table border=\"1\" class=\"dataframe\">\n",
       "  <thead>\n",
       "    <tr style=\"text-align: right;\">\n",
       "      <th></th>\n",
       "      <th>order_id</th>\n",
       "      <th>user_id</th>\n",
       "      <th>eval_set</th>\n",
       "      <th>order_number</th>\n",
       "      <th>order_dow</th>\n",
       "      <th>order_hour_of_day</th>\n",
       "      <th>days_since_prior_order</th>\n",
       "    </tr>\n",
       "  </thead>\n",
       "  <tbody>\n",
       "    <tr>\n",
       "      <th>0</th>\n",
       "      <td>2539329</td>\n",
       "      <td>1</td>\n",
       "      <td>prior</td>\n",
       "      <td>1</td>\n",
       "      <td>2</td>\n",
       "      <td>8</td>\n",
       "      <td>NaN</td>\n",
       "    </tr>\n",
       "    <tr>\n",
       "      <th>1</th>\n",
       "      <td>2398795</td>\n",
       "      <td>1</td>\n",
       "      <td>prior</td>\n",
       "      <td>2</td>\n",
       "      <td>3</td>\n",
       "      <td>7</td>\n",
       "      <td>15.0</td>\n",
       "    </tr>\n",
       "    <tr>\n",
       "      <th>2</th>\n",
       "      <td>473747</td>\n",
       "      <td>1</td>\n",
       "      <td>prior</td>\n",
       "      <td>3</td>\n",
       "      <td>3</td>\n",
       "      <td>12</td>\n",
       "      <td>21.0</td>\n",
       "    </tr>\n",
       "    <tr>\n",
       "      <th>3</th>\n",
       "      <td>2254736</td>\n",
       "      <td>1</td>\n",
       "      <td>prior</td>\n",
       "      <td>4</td>\n",
       "      <td>4</td>\n",
       "      <td>7</td>\n",
       "      <td>29.0</td>\n",
       "    </tr>\n",
       "    <tr>\n",
       "      <th>4</th>\n",
       "      <td>431534</td>\n",
       "      <td>1</td>\n",
       "      <td>prior</td>\n",
       "      <td>5</td>\n",
       "      <td>4</td>\n",
       "      <td>15</td>\n",
       "      <td>28.0</td>\n",
       "    </tr>\n",
       "  </tbody>\n",
       "</table>\n",
       "</div>"
      ],
      "text/plain": [
       "   order_id  user_id eval_set  order_number  order_dow  order_hour_of_day  \\\n",
       "0   2539329        1    prior             1          2                  8   \n",
       "1   2398795        1    prior             2          3                  7   \n",
       "2    473747        1    prior             3          3                 12   \n",
       "3   2254736        1    prior             4          4                  7   \n",
       "4    431534        1    prior             5          4                 15   \n",
       "\n",
       "   days_since_prior_order  \n",
       "0                     NaN  \n",
       "1                    15.0  \n",
       "2                    21.0  \n",
       "3                    29.0  \n",
       "4                    28.0  "
      ]
     },
     "execution_count": 29,
     "metadata": {},
     "output_type": "execute_result"
    }
   ],
   "source": [
    "df.head()"
   ]
  },
  {
   "cell_type": "code",
   "execution_count": 30,
   "id": "bd024ecb-7f88-4261-95c1-cda7c41c3ecb",
   "metadata": {},
   "outputs": [],
   "source": [
    "file_path = os.path.join('/Users', 'xxx', 'Documents', 'Instacart Basket Analysis - 2025-01-05', '02 - Data', 'Original Data', 'orders.csv')"
   ]
  },
  {
   "cell_type": "code",
   "execution_count": 31,
   "id": "e5ac22a0-5c94-46d5-acb8-8b5a117aa3ec",
   "metadata": {},
   "outputs": [],
   "source": [
    "# Define the complete path to the CSV file\n",
    "file_path = os.path.join('/Users', 'xxx', 'Documents', 'Instacart Basket Analysis - 2025-01-05', '02 - Data', 'Original Data', 'orders.csv')"
   ]
  },
  {
   "cell_type": "code",
   "execution_count": 32,
   "id": "7e4a1209-223f-477e-b8b3-345f0fc6bb2d",
   "metadata": {},
   "outputs": [],
   "source": [
    "# Specify the columns you want to include, excluding \"eval_set\"\n",
    "vars_list = ['order_id', 'user_id', 'order_number', 'order_dow', 'order_hour_of_day', 'days_since_prior_order']\n"
   ]
  },
  {
   "cell_type": "code",
   "execution_count": 33,
   "id": "7aa1c2f4-f300-4c6c-bc14-3651930f37ef",
   "metadata": {},
   "outputs": [],
   "source": [
    "# Read CSV file while omitting \"eval_set\" column\n",
    "df = pd.read_csv(file_path, usecols=vars_list)"
   ]
  },
  {
   "cell_type": "code",
   "execution_count": 34,
   "id": "a71c1e80-471f-4a2f-83e5-5ac8147b237e",
   "metadata": {},
   "outputs": [
    {
     "name": "stdout",
     "output_type": "stream",
     "text": [
      "   order_id  user_id  order_number  order_dow  order_hour_of_day  \\\n",
      "0   2539329        1             1          2                  8   \n",
      "1   2398795        1             2          3                  7   \n",
      "2    473747        1             3          3                 12   \n",
      "3   2254736        1             4          4                  7   \n",
      "4    431534        1             5          4                 15   \n",
      "\n",
      "   days_since_prior_order  \n",
      "0                     NaN  \n",
      "1                    15.0  \n",
      "2                    21.0  \n",
      "3                    29.0  \n",
      "4                    28.0  \n"
     ]
    }
   ],
   "source": [
    "# Display dataframe\n",
    "print(df.head())"
   ]
  },
  {
   "cell_type": "code",
   "execution_count": 35,
   "id": "6e91c119-f569-4f79-bd5a-9dfa05278ab2",
   "metadata": {},
   "outputs": [],
   "source": [
    "df_prods = pd.read_csv(r'/Users/xxx/Documents/Instacart Basket Analysis - 2025-01-05/02 - Data/Original Data/products.csv', index_col = False)\n"
   ]
  },
  {
   "cell_type": "code",
   "execution_count": 36,
   "id": "e108380b-02ef-4b69-a732-4d0306be42e1",
   "metadata": {},
   "outputs": [
    {
     "name": "stdout",
     "output_type": "stream",
     "text": [
      "    order_id  user_id  order_number  order_dow  order_hour_of_day  \\\n",
      "0    2539329        1             1          2                  8   \n",
      "1    2398795        1             2          3                  7   \n",
      "2     473747        1             3          3                 12   \n",
      "3    2254736        1             4          4                  7   \n",
      "4     431534        1             5          4                 15   \n",
      "5    3367565        1             6          2                  7   \n",
      "6     550135        1             7          1                  9   \n",
      "7    3108588        1             8          1                 14   \n",
      "8    2295261        1             9          1                 16   \n",
      "9    2550362        1            10          4                  8   \n",
      "10   1187899        1            11          4                  8   \n",
      "11   2168274        2             1          2                 11   \n",
      "12   1501582        2             2          5                 10   \n",
      "13   1901567        2             3          1                 10   \n",
      "14    738281        2             4          2                 10   \n",
      "15   1673511        2             5          3                 11   \n",
      "16   1199898        2             6          2                  9   \n",
      "17   3194192        2             7          2                 12   \n",
      "18    788338        2             8          1                 15   \n",
      "19   1718559        2             9          2                  9   \n",
      "\n",
      "    days_since_prior_order  \n",
      "0                      NaN  \n",
      "1                     15.0  \n",
      "2                     21.0  \n",
      "3                     29.0  \n",
      "4                     28.0  \n",
      "5                     19.0  \n",
      "6                     20.0  \n",
      "7                     14.0  \n",
      "8                      0.0  \n",
      "9                     30.0  \n",
      "10                    14.0  \n",
      "11                     NaN  \n",
      "12                    10.0  \n",
      "13                     3.0  \n",
      "14                     8.0  \n",
      "15                     8.0  \n",
      "16                    13.0  \n",
      "17                    14.0  \n",
      "18                    27.0  \n",
      "19                     8.0  \n"
     ]
    }
   ],
   "source": [
    "# Display first 20 rows of dataframe\n",
    "print(df.head(20))\n"
   ]
  },
  {
   "cell_type": "code",
   "execution_count": 37,
   "id": "6963d23b-5545-4c4d-a122-324304f377d4",
   "metadata": {},
   "outputs": [
    {
     "name": "stdout",
     "output_type": "stream",
     "text": [
      "    product_id                                       product_name  aisle_id  \\\n",
      "0            1                         Chocolate Sandwich Cookies        61   \n",
      "1            2                                   All-Seasons Salt       104   \n",
      "2            3               Robust Golden Unsweetened Oolong Tea        94   \n",
      "3            4  Smart Ones Classic Favorites Mini Rigatoni Wit...        38   \n",
      "4            5                          Green Chile Anytime Sauce         5   \n",
      "5            6                                       Dry Nose Oil        11   \n",
      "6            7                     Pure Coconut Water With Orange        98   \n",
      "7            8                  Cut Russet Potatoes Steam N' Mash       116   \n",
      "8            9                  Light Strawberry Blueberry Yogurt       120   \n",
      "9           10     Sparkling Orange Juice & Prickly Pear Beverage       115   \n",
      "10          11                                  Peach Mango Juice        31   \n",
      "11          12                         Chocolate Fudge Layer Cake       119   \n",
      "12          13                                  Saline Nasal Mist        11   \n",
      "13          14                     Fresh Scent Dishwasher Cleaner        74   \n",
      "14          15                           Overnight Diapers Size 6        56   \n",
      "15          16                      Mint Chocolate Flavored Syrup       103   \n",
      "16          17                                  Rendered Duck Fat        35   \n",
      "17          18                Pizza for One Suprema  Frozen Pizza        79   \n",
      "18          19   Gluten Free Quinoa Three Cheese & Mushroom Blend        63   \n",
      "19          20     Pomegranate Cranberry & Aloe Vera Enrich Drink        98   \n",
      "\n",
      "    department_id  prices  \n",
      "0              19     5.8  \n",
      "1              13     9.3  \n",
      "2               7     4.5  \n",
      "3               1    10.5  \n",
      "4              13     4.3  \n",
      "5              11     2.6  \n",
      "6               7     4.4  \n",
      "7               1     1.1  \n",
      "8              16     7.0  \n",
      "9               7     8.4  \n",
      "10              7     2.8  \n",
      "11              1     9.4  \n",
      "12             11     1.1  \n",
      "13             17     6.5  \n",
      "14             18    11.2  \n",
      "15             19     5.2  \n",
      "16             12    17.1  \n",
      "17              1    10.6  \n",
      "18              9    12.0  \n",
      "19              7     6.0  \n"
     ]
    }
   ],
   "source": [
    "# Display first 20 rows of dataframe\n",
    "print(df_prods.head(20))\n"
   ]
  },
  {
   "cell_type": "code",
   "execution_count": 38,
   "id": "0d8f3719-1c15-465c-868b-74134a5fda65",
   "metadata": {},
   "outputs": [
    {
     "name": "stdout",
     "output_type": "stream",
     "text": [
      "       product_id                                       product_name  \\\n",
      "49658       49654                   Teriyaki Sauce, Sesame, Original   \n",
      "49659       49655                                        Apple Cider   \n",
      "49660       49656                         Masada Kosher Pocket Bread   \n",
      "49661       49657                                  Cabernet Tomatoes   \n",
      "49662       49658                         Brie with Herbs Foil Wedge   \n",
      "49663       49659                            Organic Creamed Coconut   \n",
      "49664       49660                        Professionals Sleek Shampoo   \n",
      "49665       49661                                              Porto   \n",
      "49666       49662                       Bacon Cheddar Pretzel Pieces   \n",
      "49667       49663  Ultra Protein Power Crunch Peanut Butter N' Ho...   \n",
      "49668       49664                     Lemon Cayenne Drinking Vinegar   \n",
      "49669       49665      Super Dark Coconut Ash & Banana Chocolate Bar   \n",
      "49670       49666                      Ginger Snaps Snacking Cookies   \n",
      "49671       49667           Enchilada with Spanish Rice & Beans Meal   \n",
      "49672       49668                     Apple Cinnamon Scented Candles   \n",
      "49673       49669                                   K Cup Dark Blend   \n",
      "49674       49670                                Beef Summer Sausage   \n",
      "49675       49671                               Milk Chocolate Drops   \n",
      "49676       49672                             Cafe Mocha K-Cup Packs   \n",
      "49677       49673              Stone Baked Multi Grain Artisan Rolls   \n",
      "49678       49674            Frozen Greek Yogurt Bars Chocolate Chip   \n",
      "49679       49675                Cinnamon Dolce Keurig Brewed K Cups   \n",
      "49680       49676                             Ultra Red Energy Drink   \n",
      "49681       49677                    Thick & Chunky Sloppy Joe Sauce   \n",
      "49682       49678                    Large Chicken & Cheese Taquitos   \n",
      "49683       49679                            Famous Chocolate Wafers   \n",
      "49684       49680                 All Natural Creamy Caesar Dressing   \n",
      "49685       49681            Spaghetti with Meatballs and Sauce Meal   \n",
      "49686       49682                                 California Limeade   \n",
      "49687       49683                                     Cucumber Kirby   \n",
      "49688       49684          Vodka, Triple Distilled, Twist of Vanilla   \n",
      "49689       49685                 En Croute Roast Hazelnut Cranberry   \n",
      "49690       49686                                   Artisan Baguette   \n",
      "49691       49687         Smartblend Healthy Metabolism Dry Cat Food   \n",
      "49692       49688                             Fresh Foaming Cleanser   \n",
      "\n",
      "       aisle_id  department_id  prices  \n",
      "49658         5             13     4.0  \n",
      "49659        98              7    10.7  \n",
      "49660       128              3     7.1  \n",
      "49661        83              4     8.3  \n",
      "49662         2             16     3.9  \n",
      "49663        17             13     3.1  \n",
      "49664        22             11     6.7  \n",
      "49665       134              5     8.2  \n",
      "49666       107             19     3.6  \n",
      "49667        57             14    10.2  \n",
      "49668       100             21    13.7  \n",
      "49669        45             19     6.9  \n",
      "49670        61             19     5.2  \n",
      "49671        38              1     6.6  \n",
      "49672       101             17     5.6  \n",
      "49673       100             21     4.7  \n",
      "49674       106             12    19.2  \n",
      "49675        45             19     3.0  \n",
      "49676        26              7     6.5  \n",
      "49677       129              1     5.6  \n",
      "49678        37              1    11.1  \n",
      "49679        26              7    14.0  \n",
      "49680        64              7    14.5  \n",
      "49681        59             15     8.9  \n",
      "49682       129              1     3.4  \n",
      "49683        61             19     6.0  \n",
      "49684        89             13     4.9  \n",
      "49685        38              1     6.9  \n",
      "49686        98              7     4.3  \n",
      "49687        83              4    13.2  \n",
      "49688       124              5     5.3  \n",
      "49689        42              1     3.1  \n",
      "49690       112              3     7.8  \n",
      "49691        41              8     4.7  \n",
      "49692        73             11    13.5  \n"
     ]
    }
   ],
   "source": [
    "# Display last 35 rows of dataframe\n",
    "print(df_prods.tail(35))\n"
   ]
  },
  {
   "cell_type": "code",
   "execution_count": 39,
   "id": "085ee505-b462-4963-8202-356c1bbb558a",
   "metadata": {},
   "outputs": [
    {
     "data": {
      "text/plain": [
       "Index(['product_id', 'product_name', 'aisle_id', 'department_id', 'prices'], dtype='object')"
      ]
     },
     "execution_count": 39,
     "metadata": {},
     "output_type": "execute_result"
    }
   ],
   "source": [
    "df_prods.columns"
   ]
  },
  {
   "cell_type": "code",
   "execution_count": 40,
   "id": "485c057e-6a5b-41c5-a601-272c4a7dfec6",
   "metadata": {},
   "outputs": [
    {
     "data": {
      "text/plain": [
       "<bound method NDFrame.head of        product_id                                       product_name  \\\n",
       "0               1                         Chocolate Sandwich Cookies   \n",
       "1               2                                   All-Seasons Salt   \n",
       "2               3               Robust Golden Unsweetened Oolong Tea   \n",
       "3               4  Smart Ones Classic Favorites Mini Rigatoni Wit...   \n",
       "4               5                          Green Chile Anytime Sauce   \n",
       "...           ...                                                ...   \n",
       "49688       49684          Vodka, Triple Distilled, Twist of Vanilla   \n",
       "49689       49685                 En Croute Roast Hazelnut Cranberry   \n",
       "49690       49686                                   Artisan Baguette   \n",
       "49691       49687         Smartblend Healthy Metabolism Dry Cat Food   \n",
       "49692       49688                             Fresh Foaming Cleanser   \n",
       "\n",
       "       aisle_id  department_id  prices  \n",
       "0            61             19     5.8  \n",
       "1           104             13     9.3  \n",
       "2            94              7     4.5  \n",
       "3            38              1    10.5  \n",
       "4             5             13     4.3  \n",
       "...         ...            ...     ...  \n",
       "49688       124              5     5.3  \n",
       "49689        42              1     3.1  \n",
       "49690       112              3     7.8  \n",
       "49691        41              8     4.7  \n",
       "49692        73             11    13.5  \n",
       "\n",
       "[49693 rows x 5 columns]>"
      ]
     },
     "execution_count": 40,
     "metadata": {},
     "output_type": "execute_result"
    }
   ],
   "source": [
    "df_prods.head"
   ]
  },
  {
   "cell_type": "code",
   "execution_count": 41,
   "id": "001ee1a8-26d4-420f-a29c-d2b450d8274b",
   "metadata": {},
   "outputs": [
    {
     "data": {
      "text/plain": [
       "(49693, 5)"
      ]
     },
     "execution_count": 41,
     "metadata": {},
     "output_type": "execute_result"
    }
   ],
   "source": [
    "df_prods.shape"
   ]
  },
  {
   "cell_type": "code",
   "execution_count": 42,
   "id": "45e6e35f-6464-470f-953d-b259b766704a",
   "metadata": {},
   "outputs": [
    {
     "data": {
      "text/html": [
       "<div>\n",
       "<style scoped>\n",
       "    .dataframe tbody tr th:only-of-type {\n",
       "        vertical-align: middle;\n",
       "    }\n",
       "\n",
       "    .dataframe tbody tr th {\n",
       "        vertical-align: top;\n",
       "    }\n",
       "\n",
       "    .dataframe thead th {\n",
       "        text-align: right;\n",
       "    }\n",
       "</style>\n",
       "<table border=\"1\" class=\"dataframe\">\n",
       "  <thead>\n",
       "    <tr style=\"text-align: right;\">\n",
       "      <th></th>\n",
       "      <th>product_id</th>\n",
       "      <th>aisle_id</th>\n",
       "      <th>department_id</th>\n",
       "      <th>prices</th>\n",
       "    </tr>\n",
       "  </thead>\n",
       "  <tbody>\n",
       "    <tr>\n",
       "      <th>count</th>\n",
       "      <td>49693.000000</td>\n",
       "      <td>49693.000000</td>\n",
       "      <td>49693.000000</td>\n",
       "      <td>49693.000000</td>\n",
       "    </tr>\n",
       "    <tr>\n",
       "      <th>mean</th>\n",
       "      <td>24844.345139</td>\n",
       "      <td>67.770249</td>\n",
       "      <td>11.728433</td>\n",
       "      <td>9.994136</td>\n",
       "    </tr>\n",
       "    <tr>\n",
       "      <th>std</th>\n",
       "      <td>14343.717401</td>\n",
       "      <td>38.316774</td>\n",
       "      <td>5.850282</td>\n",
       "      <td>453.519686</td>\n",
       "    </tr>\n",
       "    <tr>\n",
       "      <th>min</th>\n",
       "      <td>1.000000</td>\n",
       "      <td>1.000000</td>\n",
       "      <td>1.000000</td>\n",
       "      <td>1.000000</td>\n",
       "    </tr>\n",
       "    <tr>\n",
       "      <th>25%</th>\n",
       "      <td>12423.000000</td>\n",
       "      <td>35.000000</td>\n",
       "      <td>7.000000</td>\n",
       "      <td>4.100000</td>\n",
       "    </tr>\n",
       "    <tr>\n",
       "      <th>50%</th>\n",
       "      <td>24845.000000</td>\n",
       "      <td>69.000000</td>\n",
       "      <td>13.000000</td>\n",
       "      <td>7.100000</td>\n",
       "    </tr>\n",
       "    <tr>\n",
       "      <th>75%</th>\n",
       "      <td>37265.000000</td>\n",
       "      <td>100.000000</td>\n",
       "      <td>17.000000</td>\n",
       "      <td>11.200000</td>\n",
       "    </tr>\n",
       "    <tr>\n",
       "      <th>max</th>\n",
       "      <td>49688.000000</td>\n",
       "      <td>134.000000</td>\n",
       "      <td>21.000000</td>\n",
       "      <td>99999.000000</td>\n",
       "    </tr>\n",
       "  </tbody>\n",
       "</table>\n",
       "</div>"
      ],
      "text/plain": [
       "         product_id      aisle_id  department_id        prices\n",
       "count  49693.000000  49693.000000   49693.000000  49693.000000\n",
       "mean   24844.345139     67.770249      11.728433      9.994136\n",
       "std    14343.717401     38.316774       5.850282    453.519686\n",
       "min        1.000000      1.000000       1.000000      1.000000\n",
       "25%    12423.000000     35.000000       7.000000      4.100000\n",
       "50%    24845.000000     69.000000      13.000000      7.100000\n",
       "75%    37265.000000    100.000000      17.000000     11.200000\n",
       "max    49688.000000    134.000000      21.000000  99999.000000"
      ]
     },
     "execution_count": 42,
     "metadata": {},
     "output_type": "execute_result"
    }
   ],
   "source": [
    "df_prods.describe()"
   ]
  },
  {
   "cell_type": "code",
   "execution_count": 43,
   "id": "83734a03-f59f-4297-9657-d09778651926",
   "metadata": {},
   "outputs": [
    {
     "data": {
      "text/plain": [
       "product_id         int64\n",
       "product_name      object\n",
       "aisle_id           int64\n",
       "department_id      int64\n",
       "prices           float64\n",
       "dtype: object"
      ]
     },
     "execution_count": 43,
     "metadata": {},
     "output_type": "execute_result"
    }
   ],
   "source": [
    "df_prods.dtypes"
   ]
  },
  {
   "cell_type": "code",
   "execution_count": null,
   "id": "1c7dec19-f667-48f7-b5c1-ce3a5dd46377",
   "metadata": {},
   "outputs": [],
   "source": []
  }
 ],
 "metadata": {
  "kernelspec": {
   "display_name": "Python [conda env:base] *",
   "language": "python",
   "name": "conda-base-py"
  },
  "language_info": {
   "codemirror_mode": {
    "name": "ipython",
    "version": 3
   },
   "file_extension": ".py",
   "mimetype": "text/x-python",
   "name": "python",
   "nbconvert_exporter": "python",
   "pygments_lexer": "ipython3",
   "version": "3.12.7"
  }
 },
 "nbformat": 4,
 "nbformat_minor": 5
}
