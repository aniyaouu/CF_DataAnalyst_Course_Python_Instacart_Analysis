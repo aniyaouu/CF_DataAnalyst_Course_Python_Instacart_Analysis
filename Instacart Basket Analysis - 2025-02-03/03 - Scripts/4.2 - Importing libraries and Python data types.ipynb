{
 "cells": [
  {
   "cell_type": "markdown",
   "id": "01fa841f-ed5a-4454-ac01-10a112aee1a0",
   "metadata": {},
   "source": [
    "# 01. Importing Libraries"
   ]
  },
  {
   "cell_type": "code",
   "execution_count": 2,
   "id": "eaa727da-5d2b-4481-b928-79518e6ba818",
   "metadata": {},
   "outputs": [],
   "source": [
    "# Import Libraries\n",
    "import pandas as pd\n",
    "import numpy as np\n",
    "import os"
   ]
  },
  {
   "cell_type": "markdown",
   "id": "514b25cc-50d3-4a7a-af90-b568e9a33e6a",
   "metadata": {},
   "source": [
    "# 02. Python Data Types"
   ]
  },
  {
   "cell_type": "code",
   "execution_count": 4,
   "id": "77c20aa9-7dce-436d-998e-76475643d787",
   "metadata": {},
   "outputs": [],
   "source": [
    "a = 50"
   ]
  },
  {
   "cell_type": "code",
   "execution_count": 6,
   "id": "88da9642-c702-4d8b-9064-0c3334a742fc",
   "metadata": {},
   "outputs": [],
   "source": [
    "b = 30"
   ]
  },
  {
   "cell_type": "code",
   "execution_count": 8,
   "id": "f2a3bb37-9976-46c1-9898-9ebb1daba9a3",
   "metadata": {},
   "outputs": [],
   "source": [
    "c = 20"
   ]
  },
  {
   "cell_type": "code",
   "execution_count": 10,
   "id": "ce27c80f-38ba-409b-839d-b6f27b11c5e4",
   "metadata": {},
   "outputs": [],
   "source": [
    "result = a + b + c"
   ]
  },
  {
   "cell_type": "code",
   "execution_count": 12,
   "id": "b12b60ae-2e29-41be-80df-b97b5cf06ecb",
   "metadata": {},
   "outputs": [
    {
     "name": "stdout",
     "output_type": "stream",
     "text": [
      "100\n"
     ]
    }
   ],
   "source": [
    "print(result)"
   ]
  },
  {
   "cell_type": "code",
   "execution_count": 14,
   "id": "be1fd0e3-c634-44c4-a30c-b027ebe605a5",
   "metadata": {},
   "outputs": [],
   "source": [
    "a = 150"
   ]
  },
  {
   "cell_type": "code",
   "execution_count": 16,
   "id": "6d06f0ce-69d7-47ea-b9be-626e13fd39bd",
   "metadata": {},
   "outputs": [],
   "source": [
    "b = 50"
   ]
  },
  {
   "cell_type": "code",
   "execution_count": 18,
   "id": "1920858e-3f08-441c-8cfa-3a9b464e4c65",
   "metadata": {},
   "outputs": [],
   "source": [
    "result = a - b"
   ]
  },
  {
   "cell_type": "code",
   "execution_count": 20,
   "id": "a917d913-79ca-4a01-917e-d7c595be1ab6",
   "metadata": {},
   "outputs": [
    {
     "name": "stdout",
     "output_type": "stream",
     "text": [
      "100\n"
     ]
    }
   ],
   "source": [
    "print(result)"
   ]
  },
  {
   "cell_type": "code",
   "execution_count": 22,
   "id": "2c1f3ba8-77cd-4d51-89bf-2698d18d08a5",
   "metadata": {},
   "outputs": [],
   "source": [
    "a = 200"
   ]
  },
  {
   "cell_type": "code",
   "execution_count": 24,
   "id": "a12006d7-40d3-4b92-a934-a470641d3477",
   "metadata": {},
   "outputs": [],
   "source": [
    "b = 100"
   ]
  },
  {
   "cell_type": "code",
   "execution_count": 26,
   "id": "95c5eddf-ec8a-4158-b406-ea535fb153f6",
   "metadata": {},
   "outputs": [],
   "source": [
    "c = 50"
   ]
  },
  {
   "cell_type": "code",
   "execution_count": 28,
   "id": "a890d369-8117-4d6a-b47f-d5cdb7be9098",
   "metadata": {},
   "outputs": [],
   "source": [
    "d = 50"
   ]
  },
  {
   "cell_type": "code",
   "execution_count": 30,
   "id": "e9f675a0-f4bd-4dbc-8c4c-2ccc52fa405c",
   "metadata": {},
   "outputs": [],
   "source": [
    "result = a - b + c - d"
   ]
  },
  {
   "cell_type": "code",
   "execution_count": 32,
   "id": "14ef6946-519a-4036-9b60-b360e3600e39",
   "metadata": {},
   "outputs": [
    {
     "name": "stdout",
     "output_type": "stream",
     "text": [
      "100\n"
     ]
    }
   ],
   "source": [
    "print(result)"
   ]
  },
  {
   "cell_type": "code",
   "execution_count": 34,
   "id": "d0fbc0f5-75e1-46d5-9452-b95741f89304",
   "metadata": {},
   "outputs": [],
   "source": [
    "x = 15.5"
   ]
  },
  {
   "cell_type": "code",
   "execution_count": 36,
   "id": "35065593-d8a5-4e08-81c9-5ed59d1bd921",
   "metadata": {},
   "outputs": [],
   "source": [
    "y = 3.1"
   ]
  },
  {
   "cell_type": "code",
   "execution_count": 38,
   "id": "2dd0d039-67e1-4ded-b3d4-3345d28189c0",
   "metadata": {},
   "outputs": [],
   "source": [
    "result = x / y"
   ]
  },
  {
   "cell_type": "code",
   "execution_count": 40,
   "id": "a1050331-9755-4739-a093-1f8e3438e88f",
   "metadata": {},
   "outputs": [
    {
     "name": "stdout",
     "output_type": "stream",
     "text": [
      "5.0\n"
     ]
    }
   ],
   "source": [
    "print(result)"
   ]
  },
  {
   "cell_type": "code",
   "execution_count": 42,
   "id": "4cbfbb2f-6132-4875-b86d-fc88e8d95a26",
   "metadata": {},
   "outputs": [],
   "source": [
    "part1 = \"Py\""
   ]
  },
  {
   "cell_type": "code",
   "execution_count": 44,
   "id": "f30c8db6-e7f0-4b04-b2e9-176737a13e03",
   "metadata": {},
   "outputs": [],
   "source": [
    "part2 = \"th\""
   ]
  },
  {
   "cell_type": "code",
   "execution_count": 46,
   "id": "5be83621-c797-4fca-a92f-3beb8198ba21",
   "metadata": {},
   "outputs": [],
   "source": [
    "part3 = \"on\""
   ]
  },
  {
   "cell_type": "code",
   "execution_count": 48,
   "id": "c6984f28-9c13-4845-a6e7-e332c1babdae",
   "metadata": {},
   "outputs": [],
   "source": [
    "word = part1 + part2 + part3"
   ]
  },
  {
   "cell_type": "code",
   "execution_count": 50,
   "id": "a3ed2779-c585-43ea-8428-ee859aa9e0b5",
   "metadata": {},
   "outputs": [
    {
     "name": "stdout",
     "output_type": "stream",
     "text": [
      "Python\n"
     ]
    }
   ],
   "source": [
    "print(word)"
   ]
  },
  {
   "cell_type": "code",
   "execution_count": 54,
   "id": "793b2248-70b1-49c4-a206-ba7649bb2459",
   "metadata": {},
   "outputs": [],
   "source": [
    "# Sentence 1\n",
    "part1 = \"How \"\n",
    "part2 = \"do \"\n",
    "part3 = \"you \"\n",
    "part4 = \"like \"\n",
    "part5 = \"Python?\""
   ]
  },
  {
   "cell_type": "code",
   "execution_count": 56,
   "id": "f44f0b82-63f5-4b84-9d85-f0a1fc9c74cb",
   "metadata": {},
   "outputs": [],
   "source": [
    "sentence1 = part1 + part2 + part3 + part4 + part5"
   ]
  },
  {
   "cell_type": "code",
   "execution_count": 58,
   "id": "97ff6f79-c3f8-46fe-acfe-28229422b565",
   "metadata": {},
   "outputs": [
    {
     "name": "stdout",
     "output_type": "stream",
     "text": [
      "How do you like Python?\n"
     ]
    }
   ],
   "source": [
    "print(sentence1)"
   ]
  },
  {
   "cell_type": "code",
   "execution_count": 60,
   "id": "ee27b46d-3b67-4cd2-9e47-c18162bbee9e",
   "metadata": {},
   "outputs": [],
   "source": [
    "# Sentence 2\n",
    "part6 = \"Python \"\n",
    "part7 = \"is \"\n",
    "part8 = \"awesome!\""
   ]
  },
  {
   "cell_type": "code",
   "execution_count": 62,
   "id": "6f4d09ae-be8f-41ea-9bc6-9da813e5bf7a",
   "metadata": {},
   "outputs": [],
   "source": [
    "sentence2 = part6 + part7 + part8"
   ]
  },
  {
   "cell_type": "code",
   "execution_count": 64,
   "id": "97fd17e0-70ca-43b4-96d0-7cae41447f0d",
   "metadata": {},
   "outputs": [
    {
     "name": "stdout",
     "output_type": "stream",
     "text": [
      "Python is awesome!\n"
     ]
    }
   ],
   "source": [
    "print(sentence2)"
   ]
  },
  {
   "cell_type": "code",
   "execution_count": 66,
   "id": "d5d43902-5180-46b7-b715-7dc1fcdabb6e",
   "metadata": {},
   "outputs": [
    {
     "ename": "SyntaxError",
     "evalue": "invalid syntax. Perhaps you forgot a comma? (2957273914.py, line 1)",
     "output_type": "error",
     "traceback": [
      "\u001b[0;36m  Cell \u001b[0;32mIn[66], line 1\u001b[0;36m\u001b[0m\n\u001b[0;31m    print(sentence1 sentence2)\u001b[0m\n\u001b[0m          ^\u001b[0m\n\u001b[0;31mSyntaxError\u001b[0m\u001b[0;31m:\u001b[0m invalid syntax. Perhaps you forgot a comma?\n"
     ]
    }
   ],
   "source": [
    "print(sentence1 sentence2)"
   ]
  },
  {
   "cell_type": "code",
   "execution_count": 68,
   "id": "98008fd6-79e7-4ead-85da-3abeb78a92bb",
   "metadata": {},
   "outputs": [
    {
     "name": "stdout",
     "output_type": "stream",
     "text": [
      "How do you like Python? Python is awesome!\n"
     ]
    }
   ],
   "source": [
    "print(sentence1, sentence2)"
   ]
  }
 ],
 "metadata": {
  "kernelspec": {
   "display_name": "Python [conda env:base] *",
   "language": "python",
   "name": "conda-base-py"
  },
  "language_info": {
   "codemirror_mode": {
    "name": "ipython",
    "version": 3
   },
   "file_extension": ".py",
   "mimetype": "text/x-python",
   "name": "python",
   "nbconvert_exporter": "python",
   "pygments_lexer": "ipython3",
   "version": "3.12.7"
  }
 },
 "nbformat": 4,
 "nbformat_minor": 5
}
